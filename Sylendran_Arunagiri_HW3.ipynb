{
  "cells": [
    {
      "cell_type": "markdown",
      "metadata": {
        "id": "SB9OYMTG1pJO"
      },
      "source": [
        "# HAII HW3\n",
        "\n",
        "## Data Visualization, Prediction, and Explanation\n",
        "\n",
        "The Center for Disease Control and Prevention (CDC) is a federal public health and safety agency of the United States. Among other things, the CDC researches infectious diseases (like the flu or COVID-19) and collects public health data. For this assignment, the CDC has contracted you to help them design an interactive web feature for the public. The CDC will let the public explore their death dataset, which records cause-of-death of everyone deceased in the United States. The CDC’s goal is to raise public awareness of health, so the dataset will only include deaths by natural causes or accidents, to help current residents of the country take better precautions about their own health."
      ]
    },
    {
      "cell_type": "markdown",
      "metadata": {
        "id": "iA81LHBl2KQB"
      },
      "source": [
        "# DATA\n",
        "\n",
        "|  <br>id                    |  <br>random numerical id unique to a person                                                                                                                                                                                                                                                                                                                                                                                                                                                                                                                                                                                                                                                                                                                                                                                                                                                                                                                                                                     |\n",
        "|----------------------------|-----------------------------------------------------------------------------------------------------------------------------------------------------------------------------------------------------------------------------------------------------------------------------------------------------------------------------------------------------------------------------------------------------------------------------------------------------------------------------------------------------------------------------------------------------------------------------------------------------------------------------------------------------------------------------------------------------------------------------------------------------------------------------------------------------------------------------------------------------------------------------------------------------------------------------------------------------------------------------------------------------------------|\n",
        "|  <br>age                   |  <br>age in years                                                                                                                                                                                                                                                                                                                                                                                                                                                                                                                                                                                                                                                                                                                                                                                                                                                                                                                                                                                               |\n",
        "|  <br>sex                   |  <br>sex, restricted to F (female) or M (male), at time of death                                                                                                                                                                                                                                                                                                                                                                                                                                                                                                                                                                                                                                                                                                                                                                                                                                                                                                                                                |\n",
        "|  <br>race                  |  <br>Including: ['White', 'Black', 'Korean', 'Vietnamese', 'Indian',<br> <br>       'Native American', 'Hawaiian', 'Chinese', 'Japanese',<br> <br>       'other Asian or Pacific Islander', 'Filipino', 'Samoan',<br> <br>       'Guamanian']                                                                                                                                                                                                                                                                                                                                                                                                                                                                                                                                                                                                                                                                                                                                                                   |\n",
        "|  <br>education             |  <br>1 ... 8th grade or less<br> <br>2 ... 9 - 12th grade, no diploma<br> <br>3 ... high school graduate or GED completed<br> <br>4 ... some college credit, but no degree<br> <br>5 ... Associate degree<br> <br>6 ... Bachelor’s degree<br> <br>7 ... Master’s degree<br> <br>8 ... Doctorate or professional degree<br> <br>9 ... Unknown                                                                                                                                                                                                                                                                                                                                                                                                                                                                                                                                                                                                                                                                    |\n",
        "|  <br>month_of_death        |  <br>numerical value of month                                                                                                                                                                                                                                                                                                                                                                                                                                                                                                                                                                                                                                                                                                                                                                                                                                                                                                                                                                                   |\n",
        "|  <br>day_of_week_of_death  |  <br>1 ... Sunday <br> <br>2 ... Monday <br> <br>3 ... Tuesday <br> <br>4 ... Wednesday <br> <br>5 ... Thursday <br> <br>6 ... Friday <br> <br>7 ... Saturday <br> <br>9 ... Unknown                                                                                                                                                                                                                                                                                                                                                                                                                                                                                                                                                                                                                                                                                                                                                                                                                            |\n",
        "|  <br>manner                |  <br>either ‘Natural Causes’ or ‘Accident’                                                                                                                                                                                                                                                                                                                                                                                                                                                                                                                                                                                                                                                                                                                                                                                                                                                                                                                                                                      |\n",
        "|  <br>relationship_status   |  <br>S ... Never married or Single <br> <br>M ... Married <br> <br>W ... Widowed <br> <br>D ... Divorced <br> <br>U ... Unknown                                                                                                                                                                                                                                                                                                                                                                                                                                                                                                                                                                                                                                                                                                                                                                                                                                                                                 |\n",
        "|  <br>icd_code              |  <br>The exact cause of death as standardized by international medical classification codes. See https://icd.codes/icd10cm for reference                                                                                                                                                                                                                                                                                                                                                                                                                                                                                                                                                                                                                                                                                                                                                                                                                                                                        |\n",
        "|  <br>cause                 |  <br>The exact cause of death, a text description (when available) of the icd code                                                                                                                                                                                                                                                                                                                                                                                                                                                                                                                                                                                                                                                                                                                                                                                                                                                                                                                              |\n",
        "|  <br>group                 |  <br>General category for cause of death, including:<br> <br>['Heart Disease', 'Respiratory Condition', 'Bladder Condition',<br> <br>       'Cancer', 'Stroke', 'Motor Vehicle Accident', 'Seizures',<br> <br>       'Infection', 'Mental or Behavioral', 'Liver Disease',<br> <br>       'Birth Condition', 'Diseases of the nervous system', 'Diabetes',<br> <br>       'Kidney Condition', 'Issues Breathing', 'Asthma',<br> <br>       'Muscle/Bone Condition', 'Medical Care Error', 'Drug Use',<br> <br>       'Accident', 'Fall', 'Congenital Anomalies', 'HIV/AIDS',<br> <br>       'Unkown cause', 'Fire', 'Skin Condition', 'Other',<br> <br>       'Natural Disaster', 'Pregnancy Related', 'Eye Condition',<br> <br>       'Stomach or Bowel Issues', 'Male Reproductive Condition',<br> <br>       'Female Reproductive Condition', 'Military Situation',<br> <br>       'Disturbance of Behavior or Senses', 'Issues with Movement',<br> <br>       'Heat Exposure', 'Urinary Abdominal Issues']  |"
      ]
    },
    {
      "cell_type": "code",
      "execution_count": 2,
      "metadata": {
        "id": "szFjRstO0RJp"
      },
      "outputs": [],
      "source": [
        "import matplotlib.pyplot as plt\n",
        "import matplotlib.ticker\n",
        "import numpy as np\n",
        "import pandas as pd\n",
        "import seaborn as sns\n"
      ]
    },
    {
      "cell_type": "code",
      "source": [
        "df = pd.read_csv('death_causes_data.csv')\n",
        "df.head()"
      ],
      "metadata": {
        "colab": {
          "base_uri": "https://localhost:8080/",
          "height": 328
        },
        "id": "wDQiYhXxWtWN",
        "outputId": "4c33dd70-e854-49a4-8893-6ad17d203d4c"
      },
      "execution_count": 3,
      "outputs": [
        {
          "output_type": "execute_result",
          "data": {
            "text/plain": [
              "   Unnamed: 0  age sex   race  education  month_of_death  \\\n",
              "0     2195403   93   F  White        4.0               3   \n",
              "1     1585793   90   F  White        4.0               1   \n",
              "2      115267   71   F  White        3.0               7   \n",
              "3      782491   77   F  White        3.0               6   \n",
              "4     1809783   79   F  White        3.0               2   \n",
              "\n",
              "   day_of_week_of_death          manner relationship_status icd_code  \\\n",
              "0                     1  Natural Causes             Widowed      I25   \n",
              "1                     5  Natural Causes              Single      J18   \n",
              "2                     6  Natural Causes             Married      N39   \n",
              "3                     3  Natural Causes             Widowed      C43   \n",
              "4                     3  Natural Causes             Widowed      I21   \n",
              "\n",
              "                                               cause                  group  \n",
              "0                 ['Chronic ischemic heart disease']          Heart Disease  \n",
              "1                ['Pneumonia, unspecified organism']  Respiratory Condition  \n",
              "2              ['Other disorders of urinary system']      Bladder Condition  \n",
              "3                     ['Malignant melanoma of skin']                 Cancer  \n",
              "4  ['ST elevation (STEMI) and non-ST elevation (N...          Heart Disease  "
            ],
            "text/html": [
              "\n",
              "  <div id=\"df-528f6f14-c33e-490e-9802-4e39592132cf\" class=\"colab-df-container\">\n",
              "    <div>\n",
              "<style scoped>\n",
              "    .dataframe tbody tr th:only-of-type {\n",
              "        vertical-align: middle;\n",
              "    }\n",
              "\n",
              "    .dataframe tbody tr th {\n",
              "        vertical-align: top;\n",
              "    }\n",
              "\n",
              "    .dataframe thead th {\n",
              "        text-align: right;\n",
              "    }\n",
              "</style>\n",
              "<table border=\"1\" class=\"dataframe\">\n",
              "  <thead>\n",
              "    <tr style=\"text-align: right;\">\n",
              "      <th></th>\n",
              "      <th>Unnamed: 0</th>\n",
              "      <th>age</th>\n",
              "      <th>sex</th>\n",
              "      <th>race</th>\n",
              "      <th>education</th>\n",
              "      <th>month_of_death</th>\n",
              "      <th>day_of_week_of_death</th>\n",
              "      <th>manner</th>\n",
              "      <th>relationship_status</th>\n",
              "      <th>icd_code</th>\n",
              "      <th>cause</th>\n",
              "      <th>group</th>\n",
              "    </tr>\n",
              "  </thead>\n",
              "  <tbody>\n",
              "    <tr>\n",
              "      <th>0</th>\n",
              "      <td>2195403</td>\n",
              "      <td>93</td>\n",
              "      <td>F</td>\n",
              "      <td>White</td>\n",
              "      <td>4.0</td>\n",
              "      <td>3</td>\n",
              "      <td>1</td>\n",
              "      <td>Natural Causes</td>\n",
              "      <td>Widowed</td>\n",
              "      <td>I25</td>\n",
              "      <td>['Chronic ischemic heart disease']</td>\n",
              "      <td>Heart Disease</td>\n",
              "    </tr>\n",
              "    <tr>\n",
              "      <th>1</th>\n",
              "      <td>1585793</td>\n",
              "      <td>90</td>\n",
              "      <td>F</td>\n",
              "      <td>White</td>\n",
              "      <td>4.0</td>\n",
              "      <td>1</td>\n",
              "      <td>5</td>\n",
              "      <td>Natural Causes</td>\n",
              "      <td>Single</td>\n",
              "      <td>J18</td>\n",
              "      <td>['Pneumonia, unspecified organism']</td>\n",
              "      <td>Respiratory Condition</td>\n",
              "    </tr>\n",
              "    <tr>\n",
              "      <th>2</th>\n",
              "      <td>115267</td>\n",
              "      <td>71</td>\n",
              "      <td>F</td>\n",
              "      <td>White</td>\n",
              "      <td>3.0</td>\n",
              "      <td>7</td>\n",
              "      <td>6</td>\n",
              "      <td>Natural Causes</td>\n",
              "      <td>Married</td>\n",
              "      <td>N39</td>\n",
              "      <td>['Other disorders of urinary system']</td>\n",
              "      <td>Bladder Condition</td>\n",
              "    </tr>\n",
              "    <tr>\n",
              "      <th>3</th>\n",
              "      <td>782491</td>\n",
              "      <td>77</td>\n",
              "      <td>F</td>\n",
              "      <td>White</td>\n",
              "      <td>3.0</td>\n",
              "      <td>6</td>\n",
              "      <td>3</td>\n",
              "      <td>Natural Causes</td>\n",
              "      <td>Widowed</td>\n",
              "      <td>C43</td>\n",
              "      <td>['Malignant melanoma of skin']</td>\n",
              "      <td>Cancer</td>\n",
              "    </tr>\n",
              "    <tr>\n",
              "      <th>4</th>\n",
              "      <td>1809783</td>\n",
              "      <td>79</td>\n",
              "      <td>F</td>\n",
              "      <td>White</td>\n",
              "      <td>3.0</td>\n",
              "      <td>2</td>\n",
              "      <td>3</td>\n",
              "      <td>Natural Causes</td>\n",
              "      <td>Widowed</td>\n",
              "      <td>I21</td>\n",
              "      <td>['ST elevation (STEMI) and non-ST elevation (N...</td>\n",
              "      <td>Heart Disease</td>\n",
              "    </tr>\n",
              "  </tbody>\n",
              "</table>\n",
              "</div>\n",
              "    <div class=\"colab-df-buttons\">\n",
              "\n",
              "  <div class=\"colab-df-container\">\n",
              "    <button class=\"colab-df-convert\" onclick=\"convertToInteractive('df-528f6f14-c33e-490e-9802-4e39592132cf')\"\n",
              "            title=\"Convert this dataframe to an interactive table.\"\n",
              "            style=\"display:none;\">\n",
              "\n",
              "  <svg xmlns=\"http://www.w3.org/2000/svg\" height=\"24px\" viewBox=\"0 -960 960 960\">\n",
              "    <path d=\"M120-120v-720h720v720H120Zm60-500h600v-160H180v160Zm220 220h160v-160H400v160Zm0 220h160v-160H400v160ZM180-400h160v-160H180v160Zm440 0h160v-160H620v160ZM180-180h160v-160H180v160Zm440 0h160v-160H620v160Z\"/>\n",
              "  </svg>\n",
              "    </button>\n",
              "\n",
              "  <style>\n",
              "    .colab-df-container {\n",
              "      display:flex;\n",
              "      gap: 12px;\n",
              "    }\n",
              "\n",
              "    .colab-df-convert {\n",
              "      background-color: #E8F0FE;\n",
              "      border: none;\n",
              "      border-radius: 50%;\n",
              "      cursor: pointer;\n",
              "      display: none;\n",
              "      fill: #1967D2;\n",
              "      height: 32px;\n",
              "      padding: 0 0 0 0;\n",
              "      width: 32px;\n",
              "    }\n",
              "\n",
              "    .colab-df-convert:hover {\n",
              "      background-color: #E2EBFA;\n",
              "      box-shadow: 0px 1px 2px rgba(60, 64, 67, 0.3), 0px 1px 3px 1px rgba(60, 64, 67, 0.15);\n",
              "      fill: #174EA6;\n",
              "    }\n",
              "\n",
              "    .colab-df-buttons div {\n",
              "      margin-bottom: 4px;\n",
              "    }\n",
              "\n",
              "    [theme=dark] .colab-df-convert {\n",
              "      background-color: #3B4455;\n",
              "      fill: #D2E3FC;\n",
              "    }\n",
              "\n",
              "    [theme=dark] .colab-df-convert:hover {\n",
              "      background-color: #434B5C;\n",
              "      box-shadow: 0px 1px 3px 1px rgba(0, 0, 0, 0.15);\n",
              "      filter: drop-shadow(0px 1px 2px rgba(0, 0, 0, 0.3));\n",
              "      fill: #FFFFFF;\n",
              "    }\n",
              "  </style>\n",
              "\n",
              "    <script>\n",
              "      const buttonEl =\n",
              "        document.querySelector('#df-528f6f14-c33e-490e-9802-4e39592132cf button.colab-df-convert');\n",
              "      buttonEl.style.display =\n",
              "        google.colab.kernel.accessAllowed ? 'block' : 'none';\n",
              "\n",
              "      async function convertToInteractive(key) {\n",
              "        const element = document.querySelector('#df-528f6f14-c33e-490e-9802-4e39592132cf');\n",
              "        const dataTable =\n",
              "          await google.colab.kernel.invokeFunction('convertToInteractive',\n",
              "                                                    [key], {});\n",
              "        if (!dataTable) return;\n",
              "\n",
              "        const docLinkHtml = 'Like what you see? Visit the ' +\n",
              "          '<a target=\"_blank\" href=https://colab.research.google.com/notebooks/data_table.ipynb>data table notebook</a>'\n",
              "          + ' to learn more about interactive tables.';\n",
              "        element.innerHTML = '';\n",
              "        dataTable['output_type'] = 'display_data';\n",
              "        await google.colab.output.renderOutput(dataTable, element);\n",
              "        const docLink = document.createElement('div');\n",
              "        docLink.innerHTML = docLinkHtml;\n",
              "        element.appendChild(docLink);\n",
              "      }\n",
              "    </script>\n",
              "  </div>\n",
              "\n",
              "\n",
              "<div id=\"df-023f9713-60fb-4941-8d69-6946d4297cf2\">\n",
              "  <button class=\"colab-df-quickchart\" onclick=\"quickchart('df-023f9713-60fb-4941-8d69-6946d4297cf2')\"\n",
              "            title=\"Suggest charts\"\n",
              "            style=\"display:none;\">\n",
              "\n",
              "<svg xmlns=\"http://www.w3.org/2000/svg\" height=\"24px\"viewBox=\"0 0 24 24\"\n",
              "     width=\"24px\">\n",
              "    <g>\n",
              "        <path d=\"M19 3H5c-1.1 0-2 .9-2 2v14c0 1.1.9 2 2 2h14c1.1 0 2-.9 2-2V5c0-1.1-.9-2-2-2zM9 17H7v-7h2v7zm4 0h-2V7h2v10zm4 0h-2v-4h2v4z\"/>\n",
              "    </g>\n",
              "</svg>\n",
              "  </button>\n",
              "\n",
              "<style>\n",
              "  .colab-df-quickchart {\n",
              "      --bg-color: #E8F0FE;\n",
              "      --fill-color: #1967D2;\n",
              "      --hover-bg-color: #E2EBFA;\n",
              "      --hover-fill-color: #174EA6;\n",
              "      --disabled-fill-color: #AAA;\n",
              "      --disabled-bg-color: #DDD;\n",
              "  }\n",
              "\n",
              "  [theme=dark] .colab-df-quickchart {\n",
              "      --bg-color: #3B4455;\n",
              "      --fill-color: #D2E3FC;\n",
              "      --hover-bg-color: #434B5C;\n",
              "      --hover-fill-color: #FFFFFF;\n",
              "      --disabled-bg-color: #3B4455;\n",
              "      --disabled-fill-color: #666;\n",
              "  }\n",
              "\n",
              "  .colab-df-quickchart {\n",
              "    background-color: var(--bg-color);\n",
              "    border: none;\n",
              "    border-radius: 50%;\n",
              "    cursor: pointer;\n",
              "    display: none;\n",
              "    fill: var(--fill-color);\n",
              "    height: 32px;\n",
              "    padding: 0;\n",
              "    width: 32px;\n",
              "  }\n",
              "\n",
              "  .colab-df-quickchart:hover {\n",
              "    background-color: var(--hover-bg-color);\n",
              "    box-shadow: 0 1px 2px rgba(60, 64, 67, 0.3), 0 1px 3px 1px rgba(60, 64, 67, 0.15);\n",
              "    fill: var(--button-hover-fill-color);\n",
              "  }\n",
              "\n",
              "  .colab-df-quickchart-complete:disabled,\n",
              "  .colab-df-quickchart-complete:disabled:hover {\n",
              "    background-color: var(--disabled-bg-color);\n",
              "    fill: var(--disabled-fill-color);\n",
              "    box-shadow: none;\n",
              "  }\n",
              "\n",
              "  .colab-df-spinner {\n",
              "    border: 2px solid var(--fill-color);\n",
              "    border-color: transparent;\n",
              "    border-bottom-color: var(--fill-color);\n",
              "    animation:\n",
              "      spin 1s steps(1) infinite;\n",
              "  }\n",
              "\n",
              "  @keyframes spin {\n",
              "    0% {\n",
              "      border-color: transparent;\n",
              "      border-bottom-color: var(--fill-color);\n",
              "      border-left-color: var(--fill-color);\n",
              "    }\n",
              "    20% {\n",
              "      border-color: transparent;\n",
              "      border-left-color: var(--fill-color);\n",
              "      border-top-color: var(--fill-color);\n",
              "    }\n",
              "    30% {\n",
              "      border-color: transparent;\n",
              "      border-left-color: var(--fill-color);\n",
              "      border-top-color: var(--fill-color);\n",
              "      border-right-color: var(--fill-color);\n",
              "    }\n",
              "    40% {\n",
              "      border-color: transparent;\n",
              "      border-right-color: var(--fill-color);\n",
              "      border-top-color: var(--fill-color);\n",
              "    }\n",
              "    60% {\n",
              "      border-color: transparent;\n",
              "      border-right-color: var(--fill-color);\n",
              "    }\n",
              "    80% {\n",
              "      border-color: transparent;\n",
              "      border-right-color: var(--fill-color);\n",
              "      border-bottom-color: var(--fill-color);\n",
              "    }\n",
              "    90% {\n",
              "      border-color: transparent;\n",
              "      border-bottom-color: var(--fill-color);\n",
              "    }\n",
              "  }\n",
              "</style>\n",
              "\n",
              "  <script>\n",
              "    async function quickchart(key) {\n",
              "      const quickchartButtonEl =\n",
              "        document.querySelector('#' + key + ' button');\n",
              "      quickchartButtonEl.disabled = true;  // To prevent multiple clicks.\n",
              "      quickchartButtonEl.classList.add('colab-df-spinner');\n",
              "      try {\n",
              "        const charts = await google.colab.kernel.invokeFunction(\n",
              "            'suggestCharts', [key], {});\n",
              "      } catch (error) {\n",
              "        console.error('Error during call to suggestCharts:', error);\n",
              "      }\n",
              "      quickchartButtonEl.classList.remove('colab-df-spinner');\n",
              "      quickchartButtonEl.classList.add('colab-df-quickchart-complete');\n",
              "    }\n",
              "    (() => {\n",
              "      let quickchartButtonEl =\n",
              "        document.querySelector('#df-023f9713-60fb-4941-8d69-6946d4297cf2 button');\n",
              "      quickchartButtonEl.style.display =\n",
              "        google.colab.kernel.accessAllowed ? 'block' : 'none';\n",
              "    })();\n",
              "  </script>\n",
              "</div>\n",
              "\n",
              "    </div>\n",
              "  </div>\n"
            ],
            "application/vnd.google.colaboratory.intrinsic+json": {
              "type": "dataframe",
              "variable_name": "df",
              "summary": "{\n  \"name\": \"df\",\n  \"rows\": 100000,\n  \"fields\": [\n    {\n      \"column\": \"Unnamed: 0\",\n      \"properties\": {\n        \"dtype\": \"number\",\n        \"std\": 710720,\n        \"min\": 7,\n        \"max\": 2718193,\n        \"num_unique_values\": 100000,\n        \"samples\": [\n          826392,\n          1375679,\n          1290145\n        ],\n        \"semantic_type\": \"\",\n        \"description\": \"\"\n      }\n    },\n    {\n      \"column\": \"age\",\n      \"properties\": {\n        \"dtype\": \"number\",\n        \"std\": 17,\n        \"min\": 0,\n        \"max\": 111,\n        \"num_unique_values\": 112,\n        \"samples\": [\n          68,\n          56,\n          79\n        ],\n        \"semantic_type\": \"\",\n        \"description\": \"\"\n      }\n    },\n    {\n      \"column\": \"sex\",\n      \"properties\": {\n        \"dtype\": \"category\",\n        \"num_unique_values\": 2,\n        \"samples\": [\n          \"M\",\n          \"F\"\n        ],\n        \"semantic_type\": \"\",\n        \"description\": \"\"\n      }\n    },\n    {\n      \"column\": \"race\",\n      \"properties\": {\n        \"dtype\": \"category\",\n        \"num_unique_values\": 13,\n        \"samples\": [\n          \"Samoan\",\n          \"other Asian or Pacific Islander\"\n        ],\n        \"semantic_type\": \"\",\n        \"description\": \"\"\n      }\n    },\n    {\n      \"column\": \"education\",\n      \"properties\": {\n        \"dtype\": \"number\",\n        \"std\": 1.9921162238115317,\n        \"min\": 1.0,\n        \"max\": 9.0,\n        \"num_unique_values\": 9,\n        \"samples\": [\n          7.0,\n          3.0\n        ],\n        \"semantic_type\": \"\",\n        \"description\": \"\"\n      }\n    },\n    {\n      \"column\": \"month_of_death\",\n      \"properties\": {\n        \"dtype\": \"number\",\n        \"std\": 3,\n        \"min\": 1,\n        \"max\": 12,\n        \"num_unique_values\": 12,\n        \"samples\": [\n          12,\n          8\n        ],\n        \"semantic_type\": \"\",\n        \"description\": \"\"\n      }\n    },\n    {\n      \"column\": \"day_of_week_of_death\",\n      \"properties\": {\n        \"dtype\": \"number\",\n        \"std\": 1,\n        \"min\": 1,\n        \"max\": 9,\n        \"num_unique_values\": 8,\n        \"samples\": [\n          5,\n          7\n        ],\n        \"semantic_type\": \"\",\n        \"description\": \"\"\n      }\n    },\n    {\n      \"column\": \"manner\",\n      \"properties\": {\n        \"dtype\": \"category\",\n        \"num_unique_values\": 2,\n        \"samples\": [\n          \"Accident\",\n          \"Natural Causes\"\n        ],\n        \"semantic_type\": \"\",\n        \"description\": \"\"\n      }\n    },\n    {\n      \"column\": \"relationship_status\",\n      \"properties\": {\n        \"dtype\": \"category\",\n        \"num_unique_values\": 5,\n        \"samples\": [\n          \"Single\",\n          \"Unkown\"\n        ],\n        \"semantic_type\": \"\",\n        \"description\": \"\"\n      }\n    },\n    {\n      \"column\": \"icd_code\",\n      \"properties\": {\n        \"dtype\": \"category\",\n        \"num_unique_values\": 773,\n        \"samples\": [\n          \"C05\",\n          \"V54\"\n        ],\n        \"semantic_type\": \"\",\n        \"description\": \"\"\n      }\n    },\n    {\n      \"column\": \"cause\",\n      \"properties\": {\n        \"dtype\": \"category\",\n        \"num_unique_values\": 698,\n        \"samples\": [\n          \"['Exposure to excessive natural cold']\",\n          \"['Disseminated intravascular coagulation of newborn']\"\n        ],\n        \"semantic_type\": \"\",\n        \"description\": \"\"\n      }\n    },\n    {\n      \"column\": \"group\",\n      \"properties\": {\n        \"dtype\": \"category\",\n        \"num_unique_values\": 38,\n        \"samples\": [\n          \"Military Situation\",\n          \"Heat Exposure\"\n        ],\n        \"semantic_type\": \"\",\n        \"description\": \"\"\n      }\n    }\n  ]\n}"
            }
          },
          "metadata": {},
          "execution_count": 3
        }
      ]
    },
    {
      "cell_type": "markdown",
      "metadata": {
        "id": "TkGdIYdzAGCa"
      },
      "source": [
        "# Part 1: Explore & Visualize\n",
        "\n",
        "[Hint: If you’ve never visualized in Python, Pandas has some visualization support. https://pandas.pydata.org/pandas-docs/stable/user_guide/visualization.html You can also use Matplotlib https://matplotlib.org/gallery/index.html ]\n",
        "\n",
        "The goal of these tasks is to have you experiment with different ways of visualizing the data."
      ]
    },
    {
      "cell_type": "markdown",
      "metadata": {
        "id": "9KankekSAZTT"
      },
      "source": [
        "1. Create a histogram of **death counts by age**.\n",
        "\n",
        "Hint: one axis should be sorted continuous range of age 0 up to the age of the oldest person in the dataset:"
      ]
    },
    {
      "cell_type": "code",
      "execution_count": 5,
      "metadata": {
        "id": "gBTZjTCmAa2O",
        "colab": {
          "base_uri": "https://localhost:8080/",
          "height": 472
        },
        "outputId": "c339422e-e961-41fb-ae67-b2fd510e7561"
      },
      "outputs": [
        {
          "output_type": "display_data",
          "data": {
            "text/plain": [
              "<Figure size 640x480 with 1 Axes>"
            ],
            "image/png": "[encoded data removed]"
          },
          "metadata": {}
        }
      ],
      "source": [
        "plt.hist(df['age'], bins=range(0, df['age'].max() + 10, 10))  # Using a bin width of 10 years for a better visualization\n",
        "plt.xlabel('Age')\n",
        "plt.ylabel('Number of Deaths')\n",
        "plt.title('Histogram of Death Counts by Age')\n",
        "plt.show()"
      ]
    },
    {
      "cell_type": "markdown",
      "metadata": {
        "id": "2yH8xg7hAp4_"
      },
      "source": [
        "2. Create a histogram of deaths caused by **cancer by age**.\n",
        "\n",
        "When shown data or an ML model, humans tend to have confirmation bias, meaning that they tend to believe that whatever the data or model says is what they really thought all along. Ever broke up with a significant other and your friends tell you “I told you so”? This is confirmation bias. With Bayesian reasoning, we can take into account a viewer’s prior reasonable guess before they see data. This is a good technique to help users reflect on how the data might conflict with “what they thought all along”."
      ]
    },
    {
      "cell_type": "code",
      "execution_count": 6,
      "metadata": {
        "id": "BjLzn_d_AtiR",
        "colab": {
          "base_uri": "https://localhost:8080/",
          "height": 472
        },
        "outputId": "fc8ba839-c537-467a-e64a-38fa2228fa7e"
      },
      "outputs": [
        {
          "output_type": "display_data",
          "data": {
            "text/plain": [
              "<Figure size 640x480 with 1 Axes>"
            ],
            "image/png": "[encoded data removed]"
          },
          "metadata": {}
        }
      ],
      "source": [
        "# Filtering the data to include only cancer deaths\n",
        "cancer_deaths = df[df['cause'].str.contains('Malignant neoplasm', na=False)]\n",
        "\n",
        "# Creating a histogram of deaths by age\n",
        "plt.hist(cancer_deaths['age'], bins=20)\n",
        "plt.xlabel('Age')\n",
        "plt.ylabel('Number of Deaths')\n",
        "plt.title('Histogram of Deaths Caused by Cancer by Age')\n",
        "plt.show()"
      ]
    },
    {
      "cell_type": "markdown",
      "metadata": {
        "id": "eR1S3b1mBQW3"
      },
      "source": [
        "3. Write down what you believe (before looking at the data. Just guess!) is the relationship between **age** and death by **Motor Vehicle Accident**. Do you expect the risk of death by car accident to be the same across all ages or higher in certain age ranges? Why?:"
      ]
    },
    {
      "cell_type": "markdown",
      "metadata": {
        "id": "dgD9blZhBYFv"
      },
      "source": [
        "Response: I would expect the risk of death by motor vehicle accident to vary by age, with higher risk in young drivers (due to inexperience and risk-taking) and older adults (due to slower reaction times and potential health issues). Middle-aged adults might have a lower risk as they are generally more experienced and cautious drivers."
      ]
    },
    {
      "cell_type": "markdown",
      "metadata": {
        "id": "qKnnPgeXBdOg"
      },
      "source": [
        "4. Write down what you believe (before looking at the data. Just guess!) is the relationship between **age** and death by **Drug Use**. Do you expect the risk of death by drug use to be the same across all ages or higher in certain age ranges? Why?"
      ]
    },
    {
      "cell_type": "markdown",
      "metadata": {
        "id": "0o15FGpQ_zqR"
      },
      "source": [
        "Response: I would expect the risk of death by drug use to be higher among young adults and middle-aged individuals, as these age groups are more likely to engage in substance use and potentially face addiction issues. Older adults may have lower risk due to decreased exposure and lifestyle changes, while younger teens may have limited access.nswer here"
      ]
    },
    {
      "cell_type": "markdown",
      "metadata": {
        "id": "9l4QpJXl_-kO"
      },
      "source": [
        "5. Create a histogram of **death** by **Motor Vehicle Accident** by **age**. Create a histogram of **death** by **Drug Use** by **age**."
      ]
    },
    {
      "cell_type": "code",
      "execution_count": 9,
      "metadata": {
        "id": "YpMqp9yT_1eZ",
        "colab": {
          "base_uri": "https://localhost:8080/",
          "height": 957
        },
        "outputId": "8039a963-8fcf-449d-d8da-e062eb0ec557"
      },
      "outputs": [
        {
          "output_type": "display_data",
          "data": {
            "text/plain": [
              "<Figure size 1000x500 with 1 Axes>"
            ],
            "image/png": "[encoded data removed]"
          },
          "metadata": {}
        },
        {
          "output_type": "display_data",
          "data": {
            "text/plain": [
              "<Figure size 1000x500 with 1 Axes>"
            ],
            "image/png": "[encoded data removed]"
          },
          "metadata": {}
        }
      ],
      "source": [
        "# Filtering the data for Motor Vehicle Accident deaths using the 'group' column\n",
        "motor_vehicle_accident_deaths = df[df['group'].str.contains('Motor Vehicle Accident', case=False, na=False)]\n",
        "\n",
        "# Creating a histogram of Motor Vehicle Accident deaths by age\n",
        "plt.figure(figsize=(10, 5))\n",
        "plt.hist(motor_vehicle_accident_deaths['age'], bins=20, edgecolor='black')\n",
        "plt.xlabel('Age')\n",
        "plt.ylabel('Number of Deaths')\n",
        "plt.title('Histogram of Deaths Caused by Motor Vehicle Accident by Age')\n",
        "plt.show()\n",
        "\n",
        "# Filtering the data for Drug Use deaths using the 'group' column\n",
        "drug_use_deaths = df[df['group'].str.contains('Drug Use', case=False, na=False)]\n",
        "\n",
        "# Creating a histogram of Drug Use deaths by age\n",
        "plt.figure(figsize=(10, 5))\n",
        "plt.hist(drug_use_deaths['age'], bins=20, edgecolor='black')\n",
        "plt.xlabel('Age')\n",
        "plt.ylabel('Number of Deaths')\n",
        "plt.title('Histogram of Deaths Caused by Drug Use by Age')\n",
        "plt.show()"
      ]
    },
    {
      "cell_type": "markdown",
      "metadata": {
        "id": "qtFKgfFbAKlh"
      },
      "source": [
        "6. Compare your prior guess in 3 and 4 to the histograms in 5. What did you learn from the histograms? Are there parts of your prior guess that were confirmed by the histograms? Are there parts of your prior guess that were wrong or different than you expected?"
      ]
    },
    {
      "cell_type": "markdown",
      "metadata": {
        "id": "zPdE2LtgATQM"
      },
      "source": [
        "Response:\n",
        "From the histograms and summary statistics:\n",
        "\n",
        "# **Motor Vehicle Accident Deaths**\n",
        "**Confirmed Guess**: The data confirms that younger individuals (around 25–40 years) have a higher frequency of motor vehicle accident deaths, which aligns with the assumption of higher risk among younger adults.\n",
        "\n",
        "**Unexpected Insight**: There is also a noticeable distribution of deaths among older individuals, though at a reduced frequency. This was less anticipated but could reflect factors like health limitations or slower response times in older age.\n",
        "\n",
        "# **Drug Use Deaths**\n",
        "**Partially Confirmed Guess**: The peak frequency appears in middle-aged adults (around 36–49 years), rather than strictly in young adults. This might suggest prolonged exposure and addiction development, aligning partially with the guess about middle-aged risk.\n",
        "\n",
        "**Unexpected Insight**: The histogram does not show as many younger individuals (teens to early twenties) as initially expected. This could indicate that drug-related fatalities are less frequent among very young people, possibly due to limited access or other socio-environmental factors."
      ]
    },
    {
      "cell_type": "markdown",
      "metadata": {
        "id": "v02hRmuyAW5m"
      },
      "source": [
        "When users see different possibilities separately in a data or ML system, there’s a bias towards thinking all possibilities are equally likely, when really some options are more or less probable in real life. E.g., While a headache could be caused by fall allergies or by brain cancer, the likelihood of fall allergies is far higher in real life than brain cancer.\n",
        "\n",
        "\n",
        "7. Create a visualization of your choice, where you overlay 4 different causes of death (your pick) by age. Design this visualization however you wish. Justify your design by writing a few sentences about how your visualization will help users compare the 4 different death risks by age."
      ]
    },
    {
      "cell_type": "code",
      "source": [
        "# Creating separate histograms for each selected cause of death by age\n",
        "fig, axs = plt.subplots(2, 2, figsize=(14, 10))\n",
        "fig.suptitle('Age Distribution for Different Causes of Death')\n",
        "\n",
        "# Cause of Death 1: Asthma\n",
        "asthma_data = df[df['group'] == 'Asthma']\n",
        "axs[0, 0].hist(asthma_data['age'], bins=20, edgecolor='black')\n",
        "axs[0, 0].set_title('Asthma')\n",
        "axs[0, 0].set_xlabel('Age')\n",
        "axs[0, 0].set_ylabel('Number of Deaths')\n",
        "\n",
        "# Cause of Death 2: Diabetes\n",
        "diabetes_data = df[df['group'] == 'Diabetes']\n",
        "axs[0, 1].hist(diabetes_data['age'], bins=20, edgecolor='black')\n",
        "axs[0, 1].set_title('Diabetes')\n",
        "axs[0, 1].set_xlabel('Age')\n",
        "axs[0, 1].set_ylabel('Number of Deaths')\n",
        "\n",
        "# Cause of Death 3: Mental or Behavioral\n",
        "mental_behavioral_data = df[df['group'] == 'Mental or Behavioral']\n",
        "axs[1, 0].hist(mental_behavioral_data['age'], bins=20, edgecolor='black')\n",
        "axs[1, 0].set_title('Mental or Behavioral')\n",
        "axs[1, 0].set_xlabel('Age')\n",
        "axs[1, 0].set_ylabel('Number of Deaths')\n",
        "\n",
        "# Cause of Death 4: Stroke\n",
        "stroke_data = df[df['group'] == 'Stroke']\n",
        "axs[1, 1].hist(stroke_data['age'], bins=20, edgecolor='black')\n",
        "axs[1, 1].set_title('Stroke')\n",
        "axs[1, 1].set_xlabel('Age')\n",
        "axs[1, 1].set_ylabel('Number of Deaths')\n",
        "\n",
        "plt.tight_layout(rect=[0, 0.03, 1, 0.95])\n",
        "plt.show()"
      ],
      "metadata": {
        "colab": {
          "base_uri": "https://localhost:8080/",
          "height": 992
        },
        "id": "kyTaeRv0KT3a",
        "outputId": "a616b5d2-2b15-4666-f8e1-b00501ae27bc"
      },
      "execution_count": 10,
      "outputs": [
        {
          "output_type": "display_data",
          "data": {
            "text/plain": [
              "<Figure size 1400x1000 with 4 Axes>"
            ],
            "image/png": "[encoded data removed]"
          },
          "metadata": {}
        }
      ]
    },
    {
      "cell_type": "markdown",
      "source": [
        "# **Justification**\n",
        "I feel that by presenting each cause of death in its own subplot, users can easily compare the distribution patterns across these conditions without overlap. This layout allows for a straightforward view of where each condition peaks in terms of age, revealing trends such as:\n",
        "\n",
        "Which conditions tend to affect older vs. younger populations.\n",
        "The specific age ranges most impacted by each cause.\n",
        "This visualization effectively shows distinct age-based patterns for each cause, helping users interpret risk profiles for different age groups"
      ],
      "metadata": {
        "id": "FBOnuz9DKdGM"
      }
    },
    {
      "cell_type": "markdown",
      "metadata": {
        "id": "JRXsvhteAiTz"
      },
      "source": [
        "# Part 2: Designing and Explaining Death Predictions\n",
        "\n",
        "The goal of Part 2 is to design and explain the prediction models of the common causes of death."
      ]
    },
    {
      "cell_type": "markdown",
      "metadata": {
        "id": "4Amm74ChA0Mi"
      },
      "source": [
        "1. Create three interpretable linear machine learning models to predict death caused by  **Motor Vehicle Accident**,  **Drug Use**, and **Cancer** respectively. That is, create one model for predicting death caused by Motor Vehicle Accidents, one for Drug Use, as well as one for Cancer.\n",
        "\n",
        "**Note:** In terms of creating predictive models, one obvious choice is to use scikit-learn library as you did in Assignment 1. Note that you are only required to create simple and interpretable models (like linear models).  Therefore, you do not need to use techniques like LIME, which is designed to translate the complicated models into linear models (locally).\n",
        "\n",
        "**Important Note:** You should formulate the problems as binary classification problems. For example, you should develop a dataset with \"ground truth\" labels as (**Motor Vehicle Accident**, or **Not Motor Vehicle Accident**). With this dataset, you can predict **Motor Vehicle Accident**. You should do the similar things for the other two causes. In total, you are asked to generate three binary classification models."
      ]
    },
    {
      "cell_type": "code",
      "execution_count": 11,
      "metadata": {
        "id": "-5ZiBCpcAR5N",
        "colab": {
          "base_uri": "https://localhost:8080/"
        },
        "outputId": "af6e8735-8819-437b-9e31-425c9d86437d"
      },
      "outputs": [
        {
          "output_type": "stream",
          "name": "stdout",
          "text": [
            "Classification Report for Motor Vehicle Accident Model:\n",
            "                            precision    recall  f1-score   support\n",
            "\n",
            "Not Motor Vehicle Accident       0.99      1.00      0.99     19758\n",
            "    Motor Vehicle Accident       0.00      0.00      0.00       242\n",
            "\n",
            "                  accuracy                           0.99     20000\n",
            "                 macro avg       0.49      0.50      0.50     20000\n",
            "              weighted avg       0.98      0.99      0.98     20000\n",
            "\n"
          ]
        },
        {
          "output_type": "stream",
          "name": "stderr",
          "text": [
            "/usr/local/lib/python3.10/dist-packages/sklearn/metrics/_classification.py:1531: UndefinedMetricWarning: Precision is ill-defined and being set to 0.0 in labels with no predicted samples. Use `zero_division` parameter to control this behavior.\n",
            "  _warn_prf(average, modifier, f\"{metric.capitalize()} is\", len(result))\n",
            "/usr/local/lib/python3.10/dist-packages/sklearn/metrics/_classification.py:1531: UndefinedMetricWarning: Precision is ill-defined and being set to 0.0 in labels with no predicted samples. Use `zero_division` parameter to control this behavior.\n",
            "  _warn_prf(average, modifier, f\"{metric.capitalize()} is\", len(result))\n",
            "/usr/local/lib/python3.10/dist-packages/sklearn/metrics/_classification.py:1531: UndefinedMetricWarning: Precision is ill-defined and being set to 0.0 in labels with no predicted samples. Use `zero_division` parameter to control this behavior.\n",
            "  _warn_prf(average, modifier, f\"{metric.capitalize()} is\", len(result))\n"
          ]
        },
        {
          "output_type": "stream",
          "name": "stdout",
          "text": [
            "\n",
            "Classification Report for Drug Use Model:\n",
            "              precision    recall  f1-score   support\n",
            "\n",
            "Not Drug Use       0.96      0.99      0.98     19285\n",
            "    Drug Use       0.00      0.00      0.00       715\n",
            "\n",
            "    accuracy                           0.96     20000\n",
            "   macro avg       0.48      0.50      0.49     20000\n",
            "weighted avg       0.93      0.96      0.94     20000\n",
            "\n",
            "\n",
            "Classification Report for Cancer Model:\n",
            "              precision    recall  f1-score   support\n",
            "\n",
            "  Not Cancer       0.77      1.00      0.87     15457\n",
            "      Cancer       0.08      0.00      0.00      4543\n",
            "\n",
            "    accuracy                           0.77     20000\n",
            "   macro avg       0.43      0.50      0.44     20000\n",
            "weighted avg       0.62      0.77      0.67     20000\n",
            "\n"
          ]
        }
      ],
      "source": [
        "from sklearn.model_selection import train_test_split\n",
        "from sklearn.linear_model import LogisticRegression\n",
        "from sklearn.metrics import classification_report\n",
        "\n",
        "\n",
        "# Create binary labels for each cause of death\n",
        "df['is_motor_vehicle_accident'] = np.where(df['group'] == 'Motor Vehicle Accident', 1, 0)\n",
        "df['is_drug_use'] = np.where(df['group'] == 'Drug Use', 1, 0)\n",
        "df['is_cancer'] = np.where(df['group'] == 'Cancer', 1, 0)\n",
        "\n",
        "# Select features (age, sex, education) and apply one-hot encoding to 'sex'\n",
        "df = pd.get_dummies(df, columns=['sex'], drop_first=True)\n",
        "X = df[['age', 'education', 'sex_M']]\n",
        "\n",
        "# Define target variables for each model\n",
        "y_motor_vehicle = df['is_motor_vehicle_accident']\n",
        "y_drug_use = df['is_drug_use']\n",
        "y_cancer = df['is_cancer']\n",
        "\n",
        "# Split data into train and test sets for each model\n",
        "X_train_mv, X_test_mv, y_train_mv, y_test_mv = train_test_split(X, y_motor_vehicle, test_size=0.2, random_state=42)\n",
        "X_train_du, X_test_du, y_train_du, y_test_du = train_test_split(X, y_drug_use, test_size=0.2, random_state=42)\n",
        "X_train_ca, X_test_ca, y_train_ca, y_test_ca = train_test_split(X, y_cancer, test_size=0.2, random_state=42)\n",
        "\n",
        "# Model 1: Motor Vehicle Accident Prediction\n",
        "model_mv = LogisticRegression()\n",
        "model_mv.fit(X_train_mv, y_train_mv)\n",
        "y_pred_mv = model_mv.predict(X_test_mv)\n",
        "print(\"Classification Report for Motor Vehicle Accident Model:\")\n",
        "print(classification_report(y_test_mv, y_pred_mv, target_names=['Not Motor Vehicle Accident', 'Motor Vehicle Accident']))\n",
        "\n",
        "# Model 2: Drug Use Prediction\n",
        "model_du = LogisticRegression()\n",
        "model_du.fit(X_train_du, y_train_du)\n",
        "y_pred_du = model_du.predict(X_test_du)\n",
        "print(\"\\nClassification Report for Drug Use Model:\")\n",
        "print(classification_report(y_test_du, y_pred_du, target_names=['Not Drug Use', 'Drug Use']))\n",
        "\n",
        "# Model 3: Cancer Prediction\n",
        "model_ca = LogisticRegression()\n",
        "model_ca.fit(X_train_ca, y_train_ca)\n",
        "y_pred_ca = model_ca.predict(X_test_ca)\n",
        "print(\"\\nClassification Report for Cancer Model:\")\n",
        "print(classification_report(y_test_ca, y_pred_ca, target_names=['Not Cancer', 'Cancer']))"
      ]
    },
    {
      "cell_type": "markdown",
      "metadata": {
        "id": "Wg20ZBZwFUZl"
      },
      "source": [
        "2. Apply your classifiers to the following fictional users given. Create a explanation based on feature attribution to describe why your classifiers make the predictions.  You can use text-based explanations or interactive visual explanations to explain how much each feature contributes to your models' predictions.\n",
        "\n",
        "\n",
        "*   Miles was a young black male college student. He died on a Tuesday of December. He was 20 years old and lived a healthy lifestyle. He did not smoke or use drugs, but did drink alcohol in social settings.\n",
        "*   Jonas was a 72 year old man, immigrated from Germany to the United States in his thirties, and has a high school level education. His wife passed away last year. He died on a Wednesday of August.\n",
        "*   Alma was a 36 year old woman with two kids. She was hispanic and co-parented her kids with a long term romantic partner but did not believe in marriage. She had an accounting degree and a strong family history of breast cancer. She died on a Tuesday of March.\n",
        "\n",
        "**Note**: Since you already created a linear model, you do not need to use SHAP or LIME (though you are allowed to try). You may choose to visualize the coefficients of your linear model.\n",
        "We will grade this question based on how clear, understandable, and accurate your explanations are, not the performance of your models."
      ]
    },
    {
      "cell_type": "markdown",
      "metadata": {
        "id": "gSl20zugFrf7"
      },
      "source": [
        "Hint: To add some minimal interactivity with minimal effort, consider using Jupyter Notebook Widgets: https://ipywidgets.readthedocs.io/en/latest/examples/Widget%20List.html\n",
        "\n",
        "Hint 2: It's actually rather easy to make it fully interactive. see https://towardsdatascience.com/interactive-controls-for-jupyter-notebooks-f5c94829aee6\n",
        " also, https://ipywidgets.readthedocs.io/en/latest/examples/Using%20Interact.html"
      ]
    },
    {
      "cell_type": "code",
      "execution_count": 12,
      "metadata": {
        "id": "6nCH7RFMwWzI",
        "colab": {
          "base_uri": "https://localhost:8080/",
          "height": 240,
          "referenced_widgets": [
            "40a5a5ac97414ead92fb48ff55ca2176",
            "8f056b3347df486491c31da9749d841d",
            "debe741db5c745dd8aa3980ce6176b52",
            "18dd1b0cb03640a7aeddb39071234176",
            "cf0d6b317e9c4e36b06f66069db30d96",
            "9d2e29cf69894adf8861bf5615fc3fb3",
            "d51ae75a347f49f58db6452d19d5d6a3",
            "f56fce98b0c142f8a1c7fe42f7dc6c7d"
          ]
        },
        "outputId": "fcfb0b82-7aa0-448f-b029-5330e36235f6"
      },
      "outputs": [
        {
          "output_type": "display_data",
          "data": {
            "text/plain": [
              "Dropdown(description='User:', options=('Miles', 'Jonas', 'Alma'), value='Miles')"
            ],
            "application/vnd.jupyter.widget-view+json": {
              "version_major": 2,
              "version_minor": 0,
              "model_id": "40a5a5ac97414ead92fb48ff55ca2176"
            }
          },
          "metadata": {}
        },
        {
          "output_type": "display_data",
          "data": {
            "text/plain": [
              "Dropdown(description='Cause:', options={'Motor Vehicle Accident': LogisticRegression(), 'Drug Use': LogisticRe…"
            ],
            "application/vnd.jupyter.widget-view+json": {
              "version_major": 2,
              "version_minor": 0,
              "model_id": "18dd1b0cb03640a7aeddb39071234176"
            }
          },
          "metadata": {}
        },
        {
          "output_type": "display_data",
          "data": {
            "text/plain": [
              "Output()"
            ],
            "application/vnd.jupyter.widget-view+json": {
              "version_major": 2,
              "version_minor": 0,
              "model_id": "d51ae75a347f49f58db6452d19d5d6a3"
            }
          },
          "metadata": {}
        }
      ],
      "source": [
        "import ipywidgets as widgets\n",
        "from IPython.display import display\n",
        "\n",
        "# Fictional user data\n",
        "users = {\n",
        "    \"Miles\": pd.DataFrame({'age': [20], 'education': [3], 'sex_M': [1]}),\n",
        "    \"Jonas\": pd.DataFrame({'age': [72], 'education': [2], 'sex_M': [1]}),\n",
        "    \"Alma\": pd.DataFrame({'age': [36], 'education': [4], 'sex_M': [0]})\n",
        "}\n",
        "\n",
        "\n",
        "# Explanatory function\n",
        "def explain_prediction(model, user, cause_name):\n",
        "    prediction = model.predict(user)[0]\n",
        "    probabilities = model.predict_proba(user)[0]\n",
        "    coeffs = model.coef_[0]\n",
        "\n",
        "    explanation = f\"Prediction for {cause_name}: {'Positive' if prediction == 1 else 'Negative'}\\n\"\n",
        "    explanation += f\"Probability: {probabilities[1]:.2f}\\n\\n\"\n",
        "    explanation += \"Feature Contributions:\\n\"\n",
        "    explanation += f\"  - Age (Coefficient: {coeffs[0]:.4f}): {'Increases' if coeffs[0] > 0 else 'Decreases'} risk based on user's age.\\n\"\n",
        "    explanation += f\"  - Education (Coefficient: {coeffs[1]:.4f}): {'Increases' if coeffs[1] > 0 else 'Decreases'} risk based on user's education level.\\n\"\n",
        "    explanation += f\"  - Sex_M (Coefficient: {coeffs[2]:.4f}): {'Increases' if coeffs[2] > 0 else 'Decreases'} risk if user is male.\\n\"\n",
        "    return explanation\n",
        "\n",
        "# Defining widgets for interactivity\n",
        "user_selector = widgets.Dropdown(\n",
        "    options=[\"Miles\", \"Jonas\", \"Alma\"],\n",
        "    value=\"Miles\",\n",
        "    description=\"User:\"\n",
        ")\n",
        "\n",
        "model_selector = widgets.Dropdown(\n",
        "    options={\n",
        "        \"Motor Vehicle Accident\": model_mv,\n",
        "        \"Drug Use\": model_du,\n",
        "        \"Cancer\": model_ca\n",
        "    },\n",
        "    description=\"Cause:\"\n",
        ")\n",
        "\n",
        "output = widgets.Output()\n",
        "\n",
        "# Defining an update function to display the explanation\n",
        "def update_output(change):\n",
        "    output.clear_output()\n",
        "    with output:\n",
        "        user_name = user_selector.value\n",
        "        selected_user = users[user_name]\n",
        "        selected_model = model_selector.value\n",
        "        cause_name = model_selector.label\n",
        "        explanation = explain_prediction(selected_model, selected_user, cause_name)\n",
        "        print(f\"User: {user_name}\\n{explanation}\")\n",
        "\n",
        "# Attaching update function to the widgets\n",
        "user_selector.observe(update_output, names='value')\n",
        "model_selector.observe(update_output, names='value')\n",
        "\n",
        "# Displaying the widgets and the output\n",
        "display(user_selector, model_selector, output)\n",
        "update_output(None)"
      ]
    },
    {
      "cell_type": "markdown",
      "source": [
        "**Miles:** The model indicates a slightly higher risk for Motor Vehicle Accidents due to his young age, which is often associated with riskier driving behaviors, despite his healthy lifestyle. But it predicts a stronger predictions for Drug Use and Cancer too. This was interesting.\n",
        "\n",
        "**Jonas:** Given his older age and lower educational level, the model may indicate a higher general risk of health-related death, particularly for causes like Cancer, though his lifestyle and recent loss could marginally increase risk for behavioral health issues as well.\n",
        "\n",
        "**Alma:** Her age and family history increase her predicted risk for Cancer. Additionally, her education level and lack of formal marital status may marginally affect her risk predictions in behavioral health categories, though these factors are less significant."
      ],
      "metadata": {
        "id": "ePrgnIE6MaBv"
      }
    },
    {
      "cell_type": "markdown",
      "metadata": {
        "id": "vVIR0lBnywjV"
      },
      "source": [
        "3. Apply your classifiers to the same fictional users given. But this time create a explanation based on a most similar example in your training set to describe why your classifiers make the predictions.\n",
        "\n",
        "\n",
        "*   Miles was a young black male college student. He died on a Tuesday of December. He was 20 years old and lived a healthy lifestyle. He did not smoke or use drugs, but did drink alcohol in social settings.\n",
        "*   Jonas was a 72 year old man, immigrated from Germany to the United States in his thirties, and has a high school level education. His wife passed away last year. He died on a Wednesday of August.\n",
        "*   Alma was a 36 year old woman with two kids. She was hispanic and co-parented her kids with a long term romantic partner but did not believe in marriage. She had an accounting degree and a strong family history of breast cancer. She died on a Tuesday of March."
      ]
    },
    {
      "cell_type": "code",
      "execution_count": 13,
      "metadata": {
        "id": "pNx8-Sk4wUOJ",
        "colab": {
          "base_uri": "https://localhost:8080/"
        },
        "outputId": "4af099fe-c620-40db-ecb7-6482676c115a"
      },
      "outputs": [
        {
          "output_type": "stream",
          "name": "stdout",
          "text": [
            "Miles:\n",
            "\n",
            "Prediction for Miles (Motor Vehicle Accident): Negative\n",
            "Probability: 0.18\n",
            "\n",
            "Most Similar Case in Training Set:\n",
            "  - Age: 20, Education: 3.0, Sex: Male\n",
            "  - Actual Outcome for Similar Case: Positive\n",
            "\n",
            "Prediction for Miles (Drug Use): Negative\n",
            "Probability: 0.39\n",
            "\n",
            "Most Similar Case in Training Set:\n",
            "  - Age: 20, Education: 3.0, Sex: Male\n",
            "  - Actual Outcome for Similar Case: Negative\n",
            "\n",
            "Prediction for Miles (Cancer): Negative\n",
            "Probability: 0.37\n",
            "\n",
            "Most Similar Case in Training Set:\n",
            "  - Age: 20, Education: 3.0, Sex: Male\n",
            "  - Actual Outcome for Similar Case: Negative\n",
            "\n",
            "\n",
            "==================================================\n",
            "\n",
            "Jonas:\n",
            "\n",
            "Prediction for Jonas (Motor Vehicle Accident): Negative\n",
            "Probability: 0.01\n",
            "\n",
            "Most Similar Case in Training Set:\n",
            "  - Age: 72, Education: 2.0, Sex: Male\n",
            "  - Actual Outcome for Similar Case: Negative\n",
            "\n",
            "Prediction for Jonas (Drug Use): Negative\n",
            "Probability: 0.02\n",
            "\n",
            "Most Similar Case in Training Set:\n",
            "  - Age: 72, Education: 2.0, Sex: Male\n",
            "  - Actual Outcome for Similar Case: Positive\n",
            "\n",
            "Prediction for Jonas (Cancer): Negative\n",
            "Probability: 0.22\n",
            "\n",
            "Most Similar Case in Training Set:\n",
            "  - Age: 72, Education: 2.0, Sex: Male\n",
            "  - Actual Outcome for Similar Case: Negative\n",
            "\n",
            "\n",
            "==================================================\n",
            "\n",
            "Alma:\n",
            "\n",
            "Prediction for Alma (Motor Vehicle Accident): Negative\n",
            "Probability: 0.03\n",
            "\n",
            "Most Similar Case in Training Set:\n",
            "  - Age: 36, Education: 4.0, Sex: Female\n",
            "  - Actual Outcome for Similar Case: Negative\n",
            "\n",
            "Prediction for Alma (Drug Use): Negative\n",
            "Probability: 0.13\n",
            "\n",
            "Most Similar Case in Training Set:\n",
            "  - Age: 36, Education: 4.0, Sex: Female\n",
            "  - Actual Outcome for Similar Case: Negative\n",
            "\n",
            "Prediction for Alma (Cancer): Negative\n",
            "Probability: 0.32\n",
            "\n",
            "Most Similar Case in Training Set:\n",
            "  - Age: 36, Education: 4.0, Sex: Female\n",
            "  - Actual Outcome for Similar Case: Negative\n",
            "\n",
            "\n",
            "==================================================\n",
            "\n"
          ]
        }
      ],
      "source": [
        "from sklearn.metrics.pairwise import euclidean_distances\n",
        "\n",
        "\n",
        "# Defining a function to find the most similar case in the training set\n",
        "def find_most_similar_case(user, X_train, y_train):\n",
        "    distances = euclidean_distances(X_train, user)\n",
        "    closest_index = np.argmin(distances)\n",
        "    return X_train.iloc[closest_index], y_train.iloc[closest_index]\n",
        "\n",
        "# Applying models and finding most similar cases for each fictional user\n",
        "def explain_based_on_similarity(user_name, user_data, model, X_train, y_train, cause_name):\n",
        "    # Make prediction\n",
        "    prediction = model.predict(user_data)[0]\n",
        "    probabilities = model.predict_proba(user_data)[0]\n",
        "\n",
        "    # Find the most similar case\n",
        "    closest_example, closest_label = find_most_similar_case(user_data, X_train, y_train)\n",
        "\n",
        "    # Prepare explanation\n",
        "    explanation = f\"Prediction for {user_name} ({cause_name}): {'Positive' if prediction == 1 else 'Negative'}\\n\"\n",
        "    explanation += f\"Probability: {probabilities[1]:.2f}\\n\\n\"\n",
        "    explanation += f\"Most Similar Case in Training Set:\\n  - Age: {closest_example['age']}, Education: {closest_example['education']}, Sex: {'Male' if closest_example['sex_M'] == 1 else 'Female'}\\n\"\n",
        "    explanation += f\"  - Actual Outcome for Similar Case: {'Positive' if closest_label == 1 else 'Negative'}\\n\"\n",
        "    return explanation\n",
        "\n",
        "# Generating explanations for each user and model\n",
        "for user_name, user_data in users.items():\n",
        "    print(f\"{user_name}:\\n\")\n",
        "    print(explain_based_on_similarity(user_name, user_data, model_mv, X_train_mv, y_train_mv, \"Motor Vehicle Accident\"))\n",
        "    print(explain_based_on_similarity(user_name, user_data, model_du, X_train_du, y_train_du, \"Drug Use\"))\n",
        "    print(explain_based_on_similarity(user_name, user_data, model_ca, X_train_ca, y_train_ca, \"Cancer\"))\n",
        "    print(\"\\n\" + \"=\"*50 + \"\\n\")"
      ]
    },
    {
      "cell_type": "markdown",
      "metadata": {
        "id": "33QxGAt1F8fC"
      },
      "source": [
        "# Part 3: Document & Reflect"
      ]
    },
    {
      "cell_type": "markdown",
      "metadata": {
        "id": "LLXeCQ-RGHRQ"
      },
      "source": [
        "1. Briefly list and describe who you received help from (e.g., friends, peers, TAs, generative AI tools, etc), and how they helped you"
      ]
    },
    {
      "cell_type": "markdown",
      "source": [
        "**ChatGPT:** Helped brainstorm how to find the most similar cases using Euclidean distance, especially for matching based on age and education.\n",
        "\n",
        "**ipywidgets Documentation:** Provided guidance on setting up interactive dropdowns for predictions in Jupyter Notebooks.\n",
        "\n",
        "**Scikit-Learn Documentation:** Useful for understanding LogisticRegression setup and classification_report usage.\n",
        "\n",
        "**Peer Discussion:** Discussed ways to explain feature impacts on predictions, making explanations more intuitive."
      ],
      "metadata": {
        "id": "2HS7avw2N3g5"
      }
    },
    {
      "cell_type": "markdown",
      "metadata": {
        "id": "UNdoPw2mGYJ2"
      },
      "source": [
        "2. Assess the new content learned from completing the assignment: what did you learn from this homework? Which part of the material was most useful for you?"
      ]
    },
    {
      "cell_type": "markdown",
      "metadata": {
        "id": "w9WIpnI5GlC4"
      },
      "source": [
        "**Similarity-Based Explanations**: Learned how to use Euclidean distance to find and explain predictions based on similar cases, making model decisions more interpretable.\n",
        "\n",
        "**Interactive Widgets in Jupyter**: Gained practical experience with ipywidgets for creating interactive elements, enhancing usability in Jupyter Notebooks.\n",
        "\n",
        "**Feature Attribution in Linear Models**: Strengthened understanding of how feature coefficients affect predictions, especially useful in interpreting logistic regression models.\n",
        "\n",
        "**Binary Classification Setup**: Practiced structuring binary classification problems and interpreting output, crucial for real-world classification tasks."
      ]
    }
  ],
  "metadata": {
    "colab": {
      "provenance": []
    },
    "kernelspec": {
      "display_name": "Python 3 (ipykernel)",
      "language": "python",
      "name": "python3"
    },
    "language_info": {
      "codemirror_mode": {
        "name": "ipython",
        "version": 3
      },
      "file_extension": ".py",
      "mimetype": "text/x-python",
      "name": "python",
      "nbconvert_exporter": "python",
      "pygments_lexer": "ipython3",
      "version": "3.12.4"
    },
    "widgets": {
      "application/vnd.jupyter.widget-state+json": {
        "40a5a5ac97414ead92fb48ff55ca2176": {
          "model_module": "@jupyter-widgets/controls",
          "model_name": "DropdownModel",
          "model_module_version": "1.5.0",
          "state": {
            "_dom_classes": [],
            "_model_module": "@jupyter-widgets/controls",
            "_model_module_version": "1.5.0",
            "_model_name": "DropdownModel",
            "_options_labels": [
              "Miles",
              "Jonas",
              "Alma"
            ],
            "_view_count": null,
            "_view_module": "@jupyter-widgets/controls",
            "_view_module_version": "1.5.0",
            "_view_name": "DropdownView",
            "description": "User:",
            "description_tooltip": null,
            "disabled": false,
            "index": 0,
            "layout": "IPY_MODEL_8f056b3347df486491c31da9749d841d",
            "style": "IPY_MODEL_debe741db5c745dd8aa3980ce6176b52"
          }
        },
        "8f056b3347df486491c31da9749d841d": {
          "model_module": "@jupyter-widgets/base",
          "model_name": "LayoutModel",
          "model_module_version": "1.2.0",
          "state": {
            "_model_module": "@jupyter-widgets/base",
            "_model_module_version": "1.2.0",
            "_model_name": "LayoutModel",
            "_view_count": null,
            "_view_module": "@jupyter-widgets/base",
            "_view_module_version": "1.2.0",
            "_view_name": "LayoutView",
            "align_content": null,
            "align_items": null,
            "align_self": null,
            "border": null,
            "bottom": null,
            "display": null,
            "flex": null,
            "flex_flow": null,
            "grid_area": null,
            "grid_auto_columns": null,
            "grid_auto_flow": null,
            "grid_auto_rows": null,
            "grid_column": null,
            "grid_gap": null,
            "grid_row": null,
            "grid_template_areas": null,
            "grid_template_columns": null,
            "grid_template_rows": null,
            "height": null,
            "justify_content": null,
            "justify_items": null,
            "left": null,
            "margin": null,
            "max_height": null,
            "max_width": null,
            "min_height": null,
            "min_width": null,
            "object_fit": null,
            "object_position": null,
            "order": null,
            "overflow": null,
            "overflow_x": null,
            "overflow_y": null,
            "padding": null,
            "right": null,
            "top": null,
            "visibility": null,
            "width": null
          }
        },
        "debe741db5c745dd8aa3980ce6176b52": {
          "model_module": "@jupyter-widgets/controls",
          "model_name": "DescriptionStyleModel",
          "model_module_version": "1.5.0",
          "state": {
            "_model_module": "@jupyter-widgets/controls",
            "_model_module_version": "1.5.0",
            "_model_name": "DescriptionStyleModel",
            "_view_count": null,
            "_view_module": "@jupyter-widgets/base",
            "_view_module_version": "1.2.0",
            "_view_name": "StyleView",
            "description_width": ""
          }
        },
        "18dd1b0cb03640a7aeddb39071234176": {
          "model_module": "@jupyter-widgets/controls",
          "model_name": "DropdownModel",
          "model_module_version": "1.5.0",
          "state": {
            "_dom_classes": [],
            "_model_module": "@jupyter-widgets/controls",
            "_model_module_version": "1.5.0",
            "_model_name": "DropdownModel",
            "_options_labels": [
              "Motor Vehicle Accident",
              "Drug Use",
              "Cancer"
            ],
            "_view_count": null,
            "_view_module": "@jupyter-widgets/controls",
            "_view_module_version": "1.5.0",
            "_view_name": "DropdownView",
            "description": "Cause:",
            "description_tooltip": null,
            "disabled": false,
            "index": 2,
            "layout": "IPY_MODEL_cf0d6b317e9c4e36b06f66069db30d96",
            "style": "IPY_MODEL_9d2e29cf69894adf8861bf5615fc3fb3"
          }
        },
        "cf0d6b317e9c4e36b06f66069db30d96": {
          "model_module": "@jupyter-widgets/base",
          "model_name": "LayoutModel",
          "model_module_version": "1.2.0",
          "state": {
            "_model_module": "@jupyter-widgets/base",
            "_model_module_version": "1.2.0",
            "_model_name": "LayoutModel",
            "_view_count": null,
            "_view_module": "@jupyter-widgets/base",
            "_view_module_version": "1.2.0",
            "_view_name": "LayoutView",
            "align_content": null,
            "align_items": null,
            "align_self": null,
            "border": null,
            "bottom": null,
            "display": null,
            "flex": null,
            "flex_flow": null,
            "grid_area": null,
            "grid_auto_columns": null,
            "grid_auto_flow": null,
            "grid_auto_rows": null,
            "grid_column": null,
            "grid_gap": null,
            "grid_row": null,
            "grid_template_areas": null,
            "grid_template_columns": null,
            "grid_template_rows": null,
            "height": null,
            "justify_content": null,
            "justify_items": null,
            "left": null,
            "margin": null,
            "max_height": null,
            "max_width": null,
            "min_height": null,
            "min_width": null,
            "object_fit": null,
            "object_position": null,
            "order": null,
            "overflow": null,
            "overflow_x": null,
            "overflow_y": null,
            "padding": null,
            "right": null,
            "top": null,
            "visibility": null,
            "width": null
          }
        },
        "9d2e29cf69894adf8861bf5615fc3fb3": {
          "model_module": "@jupyter-widgets/controls",
          "model_name": "DescriptionStyleModel",
          "model_module_version": "1.5.0",
          "state": {
            "_model_module": "@jupyter-widgets/controls",
            "_model_module_version": "1.5.0",
            "_model_name": "DescriptionStyleModel",
            "_view_count": null,
            "_view_module": "@jupyter-widgets/base",
            "_view_module_version": "1.2.0",
            "_view_name": "StyleView",
            "description_width": ""
          }
        },
        "d51ae75a347f49f58db6452d19d5d6a3": {
          "model_module": "@jupyter-widgets/output",
          "model_name": "OutputModel",
          "model_module_version": "1.0.0",
          "state": {
            "_dom_classes": [],
            "_model_module": "@jupyter-widgets/output",
            "_model_module_version": "1.0.0",
            "_model_name": "OutputModel",
            "_view_count": null,
            "_view_module": "@jupyter-widgets/output",
            "_view_module_version": "1.0.0",
            "_view_name": "OutputView",
            "layout": "IPY_MODEL_f56fce98b0c142f8a1c7fe42f7dc6c7d",
            "msg_id": "",
            "outputs": [
              {
                "output_type": "stream",
                "name": "stdout",
                "text": [
                  "User: Miles\n",
                  "Prediction for Cancer: Negative\n",
                  "Probability: 0.37\n",
                  "\n",
                  "Feature Contributions:\n",
                  "  - Age (Coefficient: -0.0127): Decreases risk based on user's age.\n",
                  "  - Education (Coefficient: 0.0497): Increases risk based on user's education level.\n",
                  "  - Sex_M (Coefficient: 0.0649): Increases risk if user is male.\n",
                  "\n"
                ]
              }
            ]
          }
        },
        "f56fce98b0c142f8a1c7fe42f7dc6c7d": {
          "model_module": "@jupyter-widgets/base",
          "model_name": "LayoutModel",
          "model_module_version": "1.2.0",
          "state": {
            "_model_module": "@jupyter-widgets/base",
            "_model_module_version": "1.2.0",
            "_model_name": "LayoutModel",
            "_view_count": null,
            "_view_module": "@jupyter-widgets/base",
            "_view_module_version": "1.2.0",
            "_view_name": "LayoutView",
            "align_content": null,
            "align_items": null,
            "align_self": null,
            "border": null,
            "bottom": null,
            "display": null,
            "flex": null,
            "flex_flow": null,
            "grid_area": null,
            "grid_auto_columns": null,
            "grid_auto_flow": null,
            "grid_auto_rows": null,
            "grid_column": null,
            "grid_gap": null,
            "grid_row": null,
            "grid_template_areas": null,
            "grid_template_columns": null,
            "grid_template_rows": null,
            "height": null,
            "justify_content": null,
            "justify_items": null,
            "left": null,
            "margin": null,
            "max_height": null,
            "max_width": null,
            "min_height": null,
            "min_width": null,
            "object_fit": null,
            "object_position": null,
            "order": null,
            "overflow": null,
            "overflow_x": null,
            "overflow_y": null,
            "padding": null,
            "right": null,
            "top": null,
            "visibility": null,
            "width": null
          }
        }
      }
    }
  },
  "nbformat": 4,
  "nbformat_minor": 0
}